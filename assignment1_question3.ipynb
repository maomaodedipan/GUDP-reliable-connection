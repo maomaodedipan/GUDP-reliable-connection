{
  "nbformat": 4,
  "nbformat_minor": 0,
  "metadata": {
    "colab": {
      "provenance": [],
      "gpuType": "T4",
      "authorship_tag": "ABX9TyPQS3JalYwjz4ivQ/gnCCQm",
      "include_colab_link": true
    },
    "kernelspec": {
      "name": "python3",
      "display_name": "Python 3"
    },
    "language_info": {
      "name": "python"
    },
    "accelerator": "GPU"
  },
  "cells": [
    {
      "cell_type": "markdown",
      "metadata": {
        "id": "view-in-github",
        "colab_type": "text"
      },
      "source": [
        "<a href=\"https://colab.research.google.com/github/maomaodedipan/GUDP-reliable-connection/blob/main/assignment1_question3.ipynb\" target=\"_parent\"><img src=\"https://colab.research.google.com/assets/colab-badge.svg\" alt=\"Open In Colab\"/></a>"
      ]
    },
    {
      "cell_type": "code",
      "execution_count": null,
      "metadata": {
        "colab": {
          "base_uri": "https://localhost:8080/"
        },
        "id": "SiKt13U0Ql61",
        "outputId": "a4bb3a2e-c0a6-4bb7-a8aa-5cac3a06b871"
      },
      "outputs": [
        {
          "output_type": "stream",
          "name": "stdout",
          "text": [
            "Mounted at /content/drive\n"
          ]
        }
      ],
      "source": [
        "from google.colab import drive\n",
        "drive.mount('/content/drive')"
      ]
    },
    {
      "cell_type": "markdown",
      "source": [
        "## **First feature BFS**"
      ],
      "metadata": {
        "id": "lQsjmwAFygos"
      }
    },
    {
      "cell_type": "markdown",
      "source": [
        "**BFS CUDA**"
      ],
      "metadata": {
        "id": "zyEeva9z5lW3"
      }
    },
    {
      "cell_type": "code",
      "source": [
        "%cd /content/drive/MyDrive/DD2360/rodinia_3.1/cuda/bfs"
      ],
      "metadata": {
        "colab": {
          "base_uri": "https://localhost:8080/"
        },
        "id": "qpaRBimjTwGD",
        "outputId": "0acd2081-334a-46f0-92c5-837778f58af0"
      },
      "execution_count": null,
      "outputs": [
        {
          "output_type": "stream",
          "name": "stdout",
          "text": [
            "/content/drive/MyDrive/DD2360/rodinia_3.1/cuda/bfs\n"
          ]
        }
      ]
    },
    {
      "cell_type": "code",
      "source": [
        "! make clean\n",
        "! make"
      ],
      "metadata": {
        "colab": {
          "base_uri": "https://localhost:8080/"
        },
        "id": "0CXxoGMdyd9f",
        "outputId": "185da387-9a49-4acb-c022-a91923447edb"
      },
      "execution_count": null,
      "outputs": [
        {
          "output_type": "stream",
          "name": "stdout",
          "text": [
            "rm -f bfs bfs.linkinfo result.txt\n",
            "/usr/local/cuda/bin/nvcc bfs.cu -o bfs -I/usr/local/cuda/include -L/usr/local/cuda/lib64 \n"
          ]
        }
      ]
    },
    {
      "cell_type": "code",
      "source": [
        "! ls\n",
        "! nvprof ./bfs ../../data/bfs/graph1MW_6.txt"
      ],
      "metadata": {
        "colab": {
          "base_uri": "https://localhost:8080/"
        },
        "id": "2vNJEvK30F5Q",
        "outputId": "f6b48fc9-651f-469c-d707-369128cdb238"
      },
      "execution_count": null,
      "outputs": [
        {
          "output_type": "stream",
          "name": "stdout",
          "text": [
            "bfs  bfs.cu  kernel2.cu  kernel.cu  Makefile  Makefile_nvidia  README  run\n",
            "Reading File\n",
            "Read File\n",
            "==2532== NVPROF is profiling process 2532, command: ./bfs ../../data/bfs/graph1MW_6.txt\n",
            "Copied Everything to GPU memory\n",
            "Start traversing the tree\n",
            "Kernel Executed 12 times\n",
            "Result stored in result.txt\n",
            "==2532== Profiling application: ./bfs ../../data/bfs/graph1MW_6.txt\n",
            "==2532== Profiling result:\n",
            "            Type  Time(%)      Time     Calls       Avg       Min       Max  Name\n",
            " GPU activities:   64.72%  7.4782ms        18  415.46us  1.3440us  4.9356ms  [CUDA memcpy HtoD]\n",
            "                   26.69%  3.0844ms        12  257.04us  36.800us  1.1336ms  Kernel(Node*, int*, bool*, bool*, bool*, int*, int)\n",
            "                    4.56%  527.36us        13  40.565us  1.6320us  506.94us  [CUDA memcpy DtoH]\n",
            "                    4.02%  464.96us        12  38.746us  31.840us  46.879us  Kernel2(bool*, bool*, bool*, bool*, int)\n",
            "      API calls:   93.26%  226.24ms         7  32.320ms  6.6900us  225.76ms  cudaMalloc\n",
            "                    5.36%  12.996ms        31  419.24us  3.3680us  5.0928ms  cudaMemcpy\n",
            "                    0.75%  1.8224ms         6  303.73us  5.0170us  1.0880ms  cudaFree\n",
            "                    0.51%  1.2380ms         1  1.2380ms  1.2380ms  1.2380ms  cuDeviceGetPCIBusId\n",
            "                    0.06%  141.86us       101  1.4040us     150ns  66.089us  cuDeviceGetAttribute\n",
            "                    0.06%  136.77us        24  5.6980us  3.3370us  27.653us  cudaLaunchKernel\n",
            "                    0.01%  23.474us         1  23.474us  23.474us  23.474us  cuDeviceGetName\n",
            "                    0.00%  1.6680us         3     556ns     203ns  1.0970us  cuDeviceGetCount\n",
            "                    0.00%  1.0320us         2     516ns     315ns     717ns  cuDeviceGet\n",
            "                    0.00%     445ns         1     445ns     445ns     445ns  cuDeviceTotalMem\n",
            "                    0.00%     393ns         1     393ns     393ns     393ns  cuModuleGetLoadingMode\n",
            "                    0.00%     237ns         1     237ns     237ns     237ns  cuDeviceGetUuid\n"
          ]
        }
      ]
    },
    {
      "cell_type": "markdown",
      "source": [
        "**BFS in openmp**"
      ],
      "metadata": {
        "id": "8jWlmiRl5p3N"
      }
    },
    {
      "cell_type": "code",
      "source": [
        "%cd /content/drive/MyDrive/DD2360/rodinia_3.1/openmp/bfs"
      ],
      "metadata": {
        "colab": {
          "base_uri": "https://localhost:8080/"
        },
        "id": "lUWuKo206avM",
        "outputId": "0feab1ef-90db-4a71-8016-2d8f29bdee40"
      },
      "execution_count": null,
      "outputs": [
        {
          "output_type": "stream",
          "name": "stdout",
          "text": [
            "/content/drive/MyDrive/DD2360/rodinia_3.1/openmp/bfs\n"
          ]
        }
      ]
    },
    {
      "cell_type": "code",
      "source": [
        "! make clean\n",
        "! make bfs"
      ],
      "metadata": {
        "colab": {
          "base_uri": "https://localhost:8080/"
        },
        "id": "hKmJLNNG6mhc",
        "outputId": "ec4031d3-46a2-46ba-8baa-3f67e641414e"
      },
      "execution_count": null,
      "outputs": [
        {
          "output_type": "stream",
          "name": "stdout",
          "text": [
            "rm -f bfs bfs_offload result.txt\n",
            "g++ -g -fopenmp -O2 bfs.cpp -o bfs \n",
            "\u001b[01m\u001b[Kbfs.cpp:\u001b[m\u001b[K In function ‘\u001b[01m\u001b[Kvoid BFSGraph(int, char**)\u001b[m\u001b[K’:\n",
            "\u001b[01m\u001b[Kbfs.cpp:65:15:\u001b[m\u001b[K \u001b[01;35m\u001b[Kwarning: \u001b[m\u001b[Kignoring return value of ‘\u001b[01m\u001b[Kint fscanf(FILE*, const char*, ...)\u001b[m\u001b[K’ declared with attribute ‘\u001b[01m\u001b[Kwarn_unused_result\u001b[m\u001b[K’ [\u001b[01;35m\u001b[K\u001b]8;;https://gcc.gnu.org/onlinedocs/gcc/Warning-Options.html#index-Wunused-result\u0007-Wunused-result\u001b]8;;\u0007\u001b[m\u001b[K]\n",
            "   65 |         \u001b[01;35m\u001b[Kfscanf(fp,\"%d\",&no_of_nodes)\u001b[m\u001b[K;\n",
            "      |         \u001b[01;35m\u001b[K~~~~~~^~~~~~~~~~~~~~~~~~~~~~\u001b[m\u001b[K\n",
            "\u001b[01m\u001b[Kbfs.cpp:77:23:\u001b[m\u001b[K \u001b[01;35m\u001b[Kwarning: \u001b[m\u001b[Kignoring return value of ‘\u001b[01m\u001b[Kint fscanf(FILE*, const char*, ...)\u001b[m\u001b[K’ declared with attribute ‘\u001b[01m\u001b[Kwarn_unused_result\u001b[m\u001b[K’ [\u001b[01;35m\u001b[K\u001b]8;;https://gcc.gnu.org/onlinedocs/gcc/Warning-Options.html#index-Wunused-result\u0007-Wunused-result\u001b]8;;\u0007\u001b[m\u001b[K]\n",
            "   77 |                 \u001b[01;35m\u001b[Kfscanf(fp,\"%d %d\",&start,&edgeno)\u001b[m\u001b[K;\n",
            "      |                 \u001b[01;35m\u001b[K~~~~~~^~~~~~~~~~~~~~~~~~~~~~~~~~~\u001b[m\u001b[K\n",
            "\u001b[01m\u001b[Kbfs.cpp:86:15:\u001b[m\u001b[K \u001b[01;35m\u001b[Kwarning: \u001b[m\u001b[Kignoring return value of ‘\u001b[01m\u001b[Kint fscanf(FILE*, const char*, ...)\u001b[m\u001b[K’ declared with attribute ‘\u001b[01m\u001b[Kwarn_unused_result\u001b[m\u001b[K’ [\u001b[01;35m\u001b[K\u001b]8;;https://gcc.gnu.org/onlinedocs/gcc/Warning-Options.html#index-Wunused-result\u0007-Wunused-result\u001b]8;;\u0007\u001b[m\u001b[K]\n",
            "   86 |         \u001b[01;35m\u001b[Kfscanf(fp,\"%d\",&source)\u001b[m\u001b[K;\n",
            "      |         \u001b[01;35m\u001b[K~~~~~~^~~~~~~~~~~~~~~~~\u001b[m\u001b[K\n",
            "\u001b[01m\u001b[Kbfs.cpp:93:15:\u001b[m\u001b[K \u001b[01;35m\u001b[Kwarning: \u001b[m\u001b[Kignoring return value of ‘\u001b[01m\u001b[Kint fscanf(FILE*, const char*, ...)\u001b[m\u001b[K’ declared with attribute ‘\u001b[01m\u001b[Kwarn_unused_result\u001b[m\u001b[K’ [\u001b[01;35m\u001b[K\u001b]8;;https://gcc.gnu.org/onlinedocs/gcc/Warning-Options.html#index-Wunused-result\u0007-Wunused-result\u001b]8;;\u0007\u001b[m\u001b[K]\n",
            "   93 |         \u001b[01;35m\u001b[Kfscanf(fp,\"%d\",&edge_list_size)\u001b[m\u001b[K;\n",
            "      |         \u001b[01;35m\u001b[K~~~~~~^~~~~~~~~~~~~~~~~~~~~~~~~\u001b[m\u001b[K\n",
            "\u001b[01m\u001b[Kbfs.cpp:99:23:\u001b[m\u001b[K \u001b[01;35m\u001b[Kwarning: \u001b[m\u001b[Kignoring return value of ‘\u001b[01m\u001b[Kint fscanf(FILE*, const char*, ...)\u001b[m\u001b[K’ declared with attribute ‘\u001b[01m\u001b[Kwarn_unused_result\u001b[m\u001b[K’ [\u001b[01;35m\u001b[K\u001b]8;;https://gcc.gnu.org/onlinedocs/gcc/Warning-Options.html#index-Wunused-result\u0007-Wunused-result\u001b]8;;\u0007\u001b[m\u001b[K]\n",
            "   99 |                 \u001b[01;35m\u001b[Kfscanf(fp,\"%d\",&id)\u001b[m\u001b[K;\n",
            "      |                 \u001b[01;35m\u001b[K~~~~~~^~~~~~~~~~~~~\u001b[m\u001b[K\n",
            "\u001b[01m\u001b[Kbfs.cpp:100:23:\u001b[m\u001b[K \u001b[01;35m\u001b[Kwarning: \u001b[m\u001b[Kignoring return value of ‘\u001b[01m\u001b[Kint fscanf(FILE*, const char*, ...)\u001b[m\u001b[K’ declared with attribute ‘\u001b[01m\u001b[Kwarn_unused_result\u001b[m\u001b[K’ [\u001b[01;35m\u001b[K\u001b]8;;https://gcc.gnu.org/onlinedocs/gcc/Warning-Options.html#index-Wunused-result\u0007-Wunused-result\u001b]8;;\u0007\u001b[m\u001b[K]\n",
            "  100 |                 \u001b[01;35m\u001b[Kfscanf(fp,\"%d\",&cost)\u001b[m\u001b[K;\n",
            "      |                 \u001b[01;35m\u001b[K~~~~~~^~~~~~~~~~~~~~~\u001b[m\u001b[K\n"
          ]
        }
      ]
    },
    {
      "cell_type": "code",
      "source": [
        "! ./bfs 4 ../../data/bfs/graph1MW_6.txt"
      ],
      "metadata": {
        "colab": {
          "base_uri": "https://localhost:8080/"
        },
        "id": "vFgvyC4V700x",
        "outputId": "87eaed45-7d7c-499b-8910-85a37f97dd3e"
      },
      "execution_count": null,
      "outputs": [
        {
          "output_type": "stream",
          "name": "stdout",
          "text": [
            "Reading File\n",
            "Start traversing the tree\n",
            "Compute time: 0.328767\n",
            "Result stored in result.txt\n"
          ]
        }
      ]
    },
    {
      "cell_type": "markdown",
      "source": [
        "## **second feature cfd**"
      ],
      "metadata": {
        "id": "PLcsxt8e04Iv"
      }
    },
    {
      "cell_type": "markdown",
      "source": [
        "**cdf cuda**"
      ],
      "metadata": {
        "id": "kRap8Io6861q"
      }
    },
    {
      "cell_type": "code",
      "source": [
        "%cd /content/drive/MyDrive/DD2360/rodinia_3.1/cuda/cfd"
      ],
      "metadata": {
        "colab": {
          "base_uri": "https://localhost:8080/"
        },
        "id": "OnaPL2u10-pa",
        "outputId": "dbcdf366-7fc6-4ef4-ee7b-400f3ae10068"
      },
      "execution_count": null,
      "outputs": [
        {
          "output_type": "stream",
          "name": "stdout",
          "text": [
            "/content/drive/MyDrive/DD2360/rodinia_3.1/cuda/cfd\n"
          ]
        }
      ]
    },
    {
      "cell_type": "code",
      "source": [
        "! make clean\n",
        "! make KERNEL_DIM=\"-DRD_WG_SIZE_1=128 -DRD_WG_SIZE_2=192 -DRD_WG_SIZE_3=128 -DRD_WG_SIZE_4=256\""
      ],
      "metadata": {
        "colab": {
          "base_uri": "https://localhost:8080/"
        },
        "id": "j238yYJH1Fwh",
        "outputId": "46921a7d-540b-4aaa-9025-782b6ae91f24"
      },
      "execution_count": null,
      "outputs": [
        {
          "output_type": "stream",
          "name": "stdout",
          "text": [
            "rm -f euler3d euler3d_double pre_euler3d pre_euler3d_double *.linkinfo\n",
            "nvcc -DRD_WG_SIZE_1=128 -DRD_WG_SIZE_2=192 -DRD_WG_SIZE_3=128 -DRD_WG_SIZE_4=256 -O2 -Xptxas -v --gpu-architecture=compute_50  --gpu-code=compute_50  euler3d.cu -o euler3d -I /content/drive/MyDrive/DD2360/cuda-samples/Common  -L /content/drive/MyDrive/DD2360/cuda-samples/lib \n",
            "\u001b[01m\u001b[Keuler3d.cu:\u001b[m\u001b[K In function ‘\u001b[01m\u001b[Kint main(int, char**)\u001b[m\u001b[K’:\n",
            "\u001b[01m\u001b[Keuler3d.cu:555:29:\u001b[m\u001b[K \u001b[01;35m\u001b[Kwarning: \u001b[m\u001b[K‘\u001b[01m\u001b[KcudaError_t cudaThreadSynchronize()\u001b[m\u001b[K’ is deprecated [\u001b[01;35m\u001b[K\u001b]8;;https://gcc.gnu.org/onlinedocs/gcc/Warning-Options.html#index-Wdeprecated-declarations\u0007-Wdeprecated-declarations\u001b]8;;\u0007\u001b[m\u001b[K]\n",
            "  555 | \u001b[01;35m\u001b[K        cudaThreadSynchronize(\u001b[m\u001b[K);\n",
            "      |         \u001b[01;35m\u001b[K~~~~~~~~~~~~~~~~~~~~^~\u001b[m\u001b[K\n",
            "\u001b[01m\u001b[K/usr/local/cuda/bin/../targets/x86_64-linux/include/cuda_runtime_api.h:1052:46:\u001b[m\u001b[K \u001b[01;36m\u001b[Knote: \u001b[m\u001b[Kdeclared here\n",
            " 1052 | extern __CUDA_DEPRECATED __host__ cudaError_t\u001b[01;36m\u001b[K CUDARTAPI cudaThread\u001b[m\u001b[KSynchronize(void);\n",
            "      |                                              \u001b[01;36m\u001b[K^~~~~~~~~~~~~~~~~~~~~\u001b[m\u001b[K\n",
            "\u001b[01m\u001b[Keuler3d.cu:585:29:\u001b[m\u001b[K \u001b[01;35m\u001b[Kwarning: \u001b[m\u001b[K‘\u001b[01m\u001b[KcudaError_t cudaThreadSynchronize()\u001b[m\u001b[K’ is deprecated [\u001b[01;35m\u001b[K\u001b]8;;https://gcc.gnu.org/onlinedocs/gcc/Warning-Options.html#index-Wdeprecated-declarations\u0007-Wdeprecated-declarations\u001b]8;;\u0007\u001b[m\u001b[K]\n",
            "  585 | \u001b[01;35m\u001b[K        cudaThreadSynchronize(\u001b[m\u001b[K);\n",
            "      |         \u001b[01;35m\u001b[K~~~~~~~~~~~~~~~~~~~~^~\u001b[m\u001b[K\n",
            "\u001b[01m\u001b[K/usr/local/cuda/bin/../targets/x86_64-linux/include/cuda_runtime_api.h:1052:46:\u001b[m\u001b[K \u001b[01;36m\u001b[Knote: \u001b[m\u001b[Kdeclared here\n",
            " 1052 | extern __CUDA_DEPRECATED __host__ cudaError_t\u001b[01;36m\u001b[K CUDARTAPI cudaThread\u001b[m\u001b[KSynchronize(void);\n",
            "      |                                              \u001b[01;36m\u001b[K^~~~~~~~~~~~~~~~~~~~~\u001b[m\u001b[K\n",
            "nvcc -Xptxas -v -O3 --gpu-architecture=compute_50  --gpu-code=compute_50  euler3d_double.cu -o euler3d_double -I /content/drive/MyDrive/DD2360/cuda-samples/Common  -L /content/drive/MyDrive/DD2360/cuda-samples/lib \n",
            "\u001b[01m\u001b[Keuler3d_double.cu:\u001b[m\u001b[K In function ‘\u001b[01m\u001b[Kint main(int, char**)\u001b[m\u001b[K’:\n",
            "\u001b[01m\u001b[Keuler3d_double.cu:533:29:\u001b[m\u001b[K \u001b[01;35m\u001b[Kwarning: \u001b[m\u001b[K‘\u001b[01m\u001b[KcudaError_t cudaThreadSynchronize()\u001b[m\u001b[K’ is deprecated [\u001b[01;35m\u001b[K\u001b]8;;https://gcc.gnu.org/onlinedocs/gcc/Warning-Options.html#index-Wdeprecated-declarations\u0007-Wdeprecated-declarations\u001b]8;;\u0007\u001b[m\u001b[K]\n",
            "  533 | \u001b[01;35m\u001b[K        cudaThreadSynchronize(\u001b[m\u001b[K);\n",
            "      |         \u001b[01;35m\u001b[K~~~~~~~~~~~~~~~~~~~~^~\u001b[m\u001b[K\n",
            "\u001b[01m\u001b[K/usr/local/cuda/bin/../targets/x86_64-linux/include/cuda_runtime_api.h:1052:46:\u001b[m\u001b[K \u001b[01;36m\u001b[Knote: \u001b[m\u001b[Kdeclared here\n",
            " 1052 | extern __CUDA_DEPRECATED __host__ cudaError_t\u001b[01;36m\u001b[K CUDARTAPI cudaThread\u001b[m\u001b[KSynchronize(void);\n",
            "      |                                              \u001b[01;36m\u001b[K^~~~~~~~~~~~~~~~~~~~~\u001b[m\u001b[K\n",
            "\u001b[01m\u001b[Keuler3d_double.cu:580:29:\u001b[m\u001b[K \u001b[01;35m\u001b[Kwarning: \u001b[m\u001b[K‘\u001b[01m\u001b[KcudaError_t cudaThreadSynchronize()\u001b[m\u001b[K’ is deprecated [\u001b[01;35m\u001b[K\u001b]8;;https://gcc.gnu.org/onlinedocs/gcc/Warning-Options.html#index-Wdeprecated-declarations\u0007-Wdeprecated-declarations\u001b]8;;\u0007\u001b[m\u001b[K]\n",
            "  580 | \u001b[01;35m\u001b[K        cudaThreadSynchronize(\u001b[m\u001b[K);\n",
            "      |         \u001b[01;35m\u001b[K~~~~~~~~~~~~~~~~~~~~^~\u001b[m\u001b[K\n",
            "\u001b[01m\u001b[K/usr/local/cuda/bin/../targets/x86_64-linux/include/cuda_runtime_api.h:1052:46:\u001b[m\u001b[K \u001b[01;36m\u001b[Knote: \u001b[m\u001b[Kdeclared here\n",
            " 1052 | extern __CUDA_DEPRECATED __host__ cudaError_t\u001b[01;36m\u001b[K CUDARTAPI cudaThread\u001b[m\u001b[KSynchronize(void);\n",
            "      |                                              \u001b[01;36m\u001b[K^~~~~~~~~~~~~~~~~~~~~\u001b[m\u001b[K\n",
            "nvcc -Xptxas -v -O3 --gpu-architecture=compute_50  --gpu-code=compute_50  pre_euler3d.cu -o pre_euler3d -I /content/drive/MyDrive/DD2360/cuda-samples/Common  -L /content/drive/MyDrive/DD2360/cuda-samples/lib \n",
            "\u001b[01m\u001b[Kpre_euler3d.cu:36:2:\u001b[m\u001b[K \u001b[01;35m\u001b[Kwarning: \u001b[m\u001b[K#warning \"the kernels may fail too launch on some systems if the block length is too large\" [\u001b[01;35m\u001b[K\u001b]8;;https://gcc.gnu.org/onlinedocs/gcc/Warning-Options.html#index-Wcpp\u0007-Wcpp\u001b]8;;\u0007\u001b[m\u001b[K]\n",
            "   36 | #\u001b[01;35m\u001b[Kwarning\u001b[m\u001b[K \"the kernels may fail too launch on some systems if the block length is too large\"\n",
            "      |  \u001b[01;35m\u001b[K^~~~~~~\u001b[m\u001b[K\n",
            "\u001b[01m\u001b[Kpre_euler3d.cu:36:2:\u001b[m\u001b[K \u001b[01;35m\u001b[Kwarning: \u001b[m\u001b[K#warning \"the kernels may fail too launch on some systems if the block length is too large\" [\u001b[01;35m\u001b[K\u001b]8;;https://gcc.gnu.org/onlinedocs/gcc/Warning-Options.html#index-Wcpp\u0007-Wcpp\u001b]8;;\u0007\u001b[m\u001b[K]\n",
            "   36 | #\u001b[01;35m\u001b[Kwarning\u001b[m\u001b[K \"the kernels may fail too launch on some systems if the block length is too large\"\n",
            "      |  \u001b[01;35m\u001b[K^~~~~~~\u001b[m\u001b[K\n",
            "\u001b[01m\u001b[Kpre_euler3d.cu:\u001b[m\u001b[K In function ‘\u001b[01m\u001b[Kint main(int, char**)\u001b[m\u001b[K’:\n",
            "\u001b[01m\u001b[Kpre_euler3d.cu:613:29:\u001b[m\u001b[K \u001b[01;35m\u001b[Kwarning: \u001b[m\u001b[K‘\u001b[01m\u001b[KcudaError_t cudaThreadSynchronize()\u001b[m\u001b[K’ is deprecated [\u001b[01;35m\u001b[K\u001b]8;;https://gcc.gnu.org/onlinedocs/gcc/Warning-Options.html#index-Wdeprecated-declarations\u0007-Wdeprecated-declarations\u001b]8;;\u0007\u001b[m\u001b[K]\n",
            "  613 | \u001b[01;35m\u001b[K        cudaThreadSynchronize(\u001b[m\u001b[K);\n",
            "      |         \u001b[01;35m\u001b[K~~~~~~~~~~~~~~~~~~~~^~\u001b[m\u001b[K\n",
            "\u001b[01m\u001b[K/usr/local/cuda/bin/../targets/x86_64-linux/include/cuda_runtime_api.h:1052:46:\u001b[m\u001b[K \u001b[01;36m\u001b[Knote: \u001b[m\u001b[Kdeclared here\n",
            " 1052 | extern __CUDA_DEPRECATED __host__ cudaError_t\u001b[01;36m\u001b[K CUDARTAPI cudaThread\u001b[m\u001b[KSynchronize(void);\n",
            "      |                                              \u001b[01;36m\u001b[K^~~~~~~~~~~~~~~~~~~~~\u001b[m\u001b[K\n",
            "\u001b[01m\u001b[Kpre_euler3d.cu:667:29:\u001b[m\u001b[K \u001b[01;35m\u001b[Kwarning: \u001b[m\u001b[K‘\u001b[01m\u001b[KcudaError_t cudaThreadSynchronize()\u001b[m\u001b[K’ is deprecated [\u001b[01;35m\u001b[K\u001b]8;;https://gcc.gnu.org/onlinedocs/gcc/Warning-Options.html#index-Wdeprecated-declarations\u0007-Wdeprecated-declarations\u001b]8;;\u0007\u001b[m\u001b[K]\n",
            "  667 | \u001b[01;35m\u001b[K        cudaThreadSynchronize(\u001b[m\u001b[K);\n",
            "      |         \u001b[01;35m\u001b[K~~~~~~~~~~~~~~~~~~~~^~\u001b[m\u001b[K\n",
            "\u001b[01m\u001b[K/usr/local/cuda/bin/../targets/x86_64-linux/include/cuda_runtime_api.h:1052:46:\u001b[m\u001b[K \u001b[01;36m\u001b[Knote: \u001b[m\u001b[Kdeclared here\n",
            " 1052 | extern __CUDA_DEPRECATED __host__ cudaError_t\u001b[01;36m\u001b[K CUDARTAPI cudaThread\u001b[m\u001b[KSynchronize(void);\n",
            "      |                                              \u001b[01;36m\u001b[K^~~~~~~~~~~~~~~~~~~~~\u001b[m\u001b[K\n",
            "nvcc -Xptxas -v -O3 --gpu-architecture=compute_50  --gpu-code=compute_50  pre_euler3d_double.cu -o pre_euler3d_double -I /content/drive/MyDrive/DD2360/cuda-samples/Common  -L /content/drive/MyDrive/DD2360/cuda-samples/lib \n",
            "\u001b[01m\u001b[Kpre_euler3d_double.cu:\u001b[m\u001b[K In function ‘\u001b[01m\u001b[Kint main(int, char**)\u001b[m\u001b[K’:\n",
            "\u001b[01m\u001b[Kpre_euler3d_double.cu:625:29:\u001b[m\u001b[K \u001b[01;35m\u001b[Kwarning: \u001b[m\u001b[K‘\u001b[01m\u001b[KcudaError_t cudaThreadSynchronize()\u001b[m\u001b[K’ is deprecated [\u001b[01;35m\u001b[K\u001b]8;;https://gcc.gnu.org/onlinedocs/gcc/Warning-Options.html#index-Wdeprecated-declarations\u0007-Wdeprecated-declarations\u001b]8;;\u0007\u001b[m\u001b[K]\n",
            "  625 | \u001b[01;35m\u001b[K        cudaThreadSynchronize(\u001b[m\u001b[K);\n",
            "      |         \u001b[01;35m\u001b[K~~~~~~~~~~~~~~~~~~~~^~\u001b[m\u001b[K\n",
            "\u001b[01m\u001b[K/usr/local/cuda/bin/../targets/x86_64-linux/include/cuda_runtime_api.h:1052:46:\u001b[m\u001b[K \u001b[01;36m\u001b[Knote: \u001b[m\u001b[Kdeclared here\n",
            " 1052 | extern __CUDA_DEPRECATED __host__ cudaError_t\u001b[01;36m\u001b[K CUDARTAPI cudaThread\u001b[m\u001b[KSynchronize(void);\n",
            "      |                                              \u001b[01;36m\u001b[K^~~~~~~~~~~~~~~~~~~~~\u001b[m\u001b[K\n",
            "\u001b[01m\u001b[Kpre_euler3d_double.cu:650:29:\u001b[m\u001b[K \u001b[01;35m\u001b[Kwarning: \u001b[m\u001b[K‘\u001b[01m\u001b[KcudaError_t cudaThreadSynchronize()\u001b[m\u001b[K’ is deprecated [\u001b[01;35m\u001b[K\u001b]8;;https://gcc.gnu.org/onlinedocs/gcc/Warning-Options.html#index-Wdeprecated-declarations\u0007-Wdeprecated-declarations\u001b]8;;\u0007\u001b[m\u001b[K]\n",
            "  650 | \u001b[01;35m\u001b[K        cudaThreadSynchronize(\u001b[m\u001b[K);\n",
            "      |         \u001b[01;35m\u001b[K~~~~~~~~~~~~~~~~~~~~^~\u001b[m\u001b[K\n",
            "\u001b[01m\u001b[K/usr/local/cuda/bin/../targets/x86_64-linux/include/cuda_runtime_api.h:1052:46:\u001b[m\u001b[K \u001b[01;36m\u001b[Knote: \u001b[m\u001b[Kdeclared here\n",
            " 1052 | extern __CUDA_DEPRECATED __host__ cudaError_t\u001b[01;36m\u001b[K CUDARTAPI cudaThread\u001b[m\u001b[KSynchronize(void);\n",
            "      |                                              \u001b[01;36m\u001b[K^~~~~~~~~~~~~~~~~~~~~\u001b[m\u001b[K\n"
          ]
        }
      ]
    },
    {
      "cell_type": "code",
      "source": [
        "! ls\n",
        "! nvprof ./euler3d ../../data/cfd/fvcorr.domn.193K"
      ],
      "metadata": {
        "colab": {
          "base_uri": "https://localhost:8080/"
        },
        "id": "e5mjOoLu1P6E",
        "outputId": "069ef888-cdd4-4ce2-cc4d-d8a00d248be3"
      },
      "execution_count": null,
      "outputs": [
        {
          "output_type": "stream",
          "name": "stdout",
          "text": [
            "density_energy\teuler3d_double\t   Makefile_nvidia  pre_euler3d.cu\t   README\n",
            "euler3d\t\teuler3d_double.cu  momentum\t    pre_euler3d_double\t   run\n",
            "euler3d.cu\tMakefile\t   pre_euler3d\t    pre_euler3d_double.cu\n",
            "WG size of kernel:initialize = 128, WG size of kernel:compute_step_factor = 192, WG size of kernel:compute_flux = 128, WG size of kernel:time_step = 256\n",
            "==3130== NVPROF is profiling process 3130, command: ./euler3d ../../data/cfd/fvcorr.domn.193K\n",
            "Name:                     Tesla T4\n",
            "Starting...\n",
            "0.000573523 seconds per iteration\n",
            "Saving solution...\n",
            "Saved solution...\n",
            "Cleaning up...\n",
            "Done...\n",
            "==3130== Profiling application: ./euler3d ../../data/cfd/fvcorr.domn.193K\n",
            "==3130== Profiling result:\n",
            "            Type  Time(%)      Time     Calls       Avg       Min       Max  Name\n",
            " GPU activities:   62.74%  711.63ms      6000  118.61us  107.26us  168.48us  cuda_compute_flux(int, int*, float*, float*, float*)\n",
            "                   26.31%  298.46ms      6000  49.742us  48.639us  61.632us  cuda_time_step(int, int, float*, float*, float*, float*)\n",
            "                    5.83%  66.086ms      2000  33.043us  31.936us  46.112us  [CUDA memcpy DtoD]\n",
            "                    4.83%  54.738ms      2000  27.369us  25.983us  34.432us  cuda_compute_step_factor(int, float*, float*, float*)\n",
            "                    0.23%  2.6363ms         8  329.53us  1.3760us  1.9787ms  [CUDA memcpy HtoD]\n",
            "                    0.06%  678.71us         1  678.71us  678.71us  678.71us  [CUDA memcpy DtoH]\n",
            "                    0.01%  58.752us         3  19.584us  15.872us  21.664us  cuda_initialize_variables(int, float*)\n",
            "                    0.00%  6.7840us         1  6.7840us  6.7840us  6.7840us  [CUDA memset]\n",
            "      API calls:   52.58%  785.88ms     14003  56.122us  4.7340us  14.918ms  cudaLaunchKernel\n",
            "                   23.75%  354.96ms         5  70.992ms  5.5710us  354.89ms  cudaMemcpyToSymbol\n",
            "                   16.40%  245.13ms      2004  122.32us  6.8720us  5.0171ms  cudaMemcpy\n",
            "                    4.88%  72.877ms         2  36.439ms  15.732us  72.862ms  cudaThreadSynchronize\n",
            "                    2.19%  32.675ms     28003  1.1660us     147ns  8.1882ms  cudaGetLastError\n",
            "                    0.12%  1.7363ms         7  248.05us  76.767us  552.65us  cudaFree\n",
            "                    0.08%  1.1249ms         7  160.70us  8.8250us  306.13us  cudaMalloc\n",
            "                    0.01%  122.49us       101  1.2120us     137ns  48.667us  cuDeviceGetAttribute\n",
            "                    0.01%  82.217us         1  82.217us  82.217us  82.217us  cudaGetDeviceProperties\n",
            "                    0.00%  28.689us         1  28.689us  28.689us  28.689us  cudaMemset\n",
            "                    0.00%  27.992us         1  27.992us  27.992us  27.992us  cuDeviceGetName\n",
            "                    0.00%  5.5660us         1  5.5660us  5.5660us  5.5660us  cuDeviceGetPCIBusId\n",
            "                    0.00%  3.0490us         1  3.0490us  3.0490us  3.0490us  cudaSetDevice\n",
            "                    0.00%  1.8060us         1  1.8060us  1.8060us  1.8060us  cudaGetDevice\n",
            "                    0.00%  1.7820us         3     594ns     210ns  1.2840us  cuDeviceGetCount\n",
            "                    0.00%     968ns         2     484ns     256ns     712ns  cuDeviceGet\n",
            "                    0.00%     582ns         1     582ns     582ns     582ns  cuDeviceTotalMem\n",
            "                    0.00%     325ns         1     325ns     325ns     325ns  cuModuleGetLoadingMode\n",
            "                    0.00%     222ns         1     222ns     222ns     222ns  cuDeviceGetUuid\n"
          ]
        }
      ]
    },
    {
      "cell_type": "markdown",
      "source": [
        "**cfd in openMP**"
      ],
      "metadata": {
        "id": "zmg6Bi2P9KVh"
      }
    },
    {
      "cell_type": "code",
      "source": [
        "%cd /content/drive/MyDrive/DD2360/rodinia_3.1/openmp/cfd"
      ],
      "metadata": {
        "colab": {
          "base_uri": "https://localhost:8080/"
        },
        "id": "p1DUOobd9T-L",
        "outputId": "b4416a6d-dc4a-4bcb-cf24-a2276e0daeeb"
      },
      "execution_count": null,
      "outputs": [
        {
          "output_type": "stream",
          "name": "stdout",
          "text": [
            "/content/drive/MyDrive/DD2360/rodinia_3.1/openmp/cfd\n"
          ]
        }
      ]
    },
    {
      "cell_type": "code",
      "source": [
        "! make clean\n",
        "! make euler3d_cpu KERNEL_DIM=\"-DRD_WG_SIZE_1=128 -DRD_WG_SIZE_2=192 -DRD_WG_SIZE_3=128 -DRD_WG_SIZE_4=256\"\n",
        "! make euler3d_cpu_double KERNEL_DIM=\"-DRD_WG_SIZE_1=128 -DRD_WG_SIZE_2=192 -DRD_WG_SIZE_3=128 -DRD_WG_SIZE_4=256\""
      ],
      "metadata": {
        "colab": {
          "base_uri": "https://localhost:8080/"
        },
        "id": "SDwQxlIv9nkt",
        "outputId": "adaf5a82-9999-4130-905f-8147cf4924b5"
      },
      "execution_count": null,
      "outputs": [
        {
          "output_type": "stream",
          "name": "stdout",
          "text": [
            "rm -f euler3d_cpu\n",
            "rm -f euler3d_cpu_offload\n",
            "rm -f euler3d_cpu_double\n",
            "rm -f pre_euler3d_cpu\n",
            "rm -f pre_euler3d_cpu_double\n",
            "g++ -O3 -Dblock_length=8 -fopenmp euler3d_cpu.cpp -o euler3d_cpu\n",
            "g++ -O3 -Dblock_length=8 -fopenmp euler3d_cpu_double.cpp -o euler3d_cpu_double\n"
          ]
        }
      ]
    },
    {
      "cell_type": "code",
      "source": [
        "! ./euler3d_cpu ../../data/cfd/fvcorr.domn.193K"
      ],
      "metadata": {
        "colab": {
          "base_uri": "https://localhost:8080/"
        },
        "id": "a4IIMwSp-SME",
        "outputId": "738d865e-9376-45f9-a74f-dcdd0a378def"
      },
      "execution_count": null,
      "outputs": [
        {
          "output_type": "stream",
          "name": "stdout",
          "text": [
            "Starting...\n",
            "Compute time: 139.044\n",
            "Saving solution...\n",
            "Saved solution...\n",
            "Cleaning up...\n",
            "Done...\n"
          ]
        }
      ]
    }
  ]
}